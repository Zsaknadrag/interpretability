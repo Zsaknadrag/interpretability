{
 "cells": [
  {
   "cell_type": "code",
   "execution_count": 34,
   "metadata": {
    "collapsed": true
   },
   "outputs": [],
   "source": [
    "import numpy as np\n",
    "from sklearn import tree\n",
    "from sklearn.model_selection import train_test_split\n",
    "from sklearn.metrics import precision_recall_fscore_support\n",
    "import os\n",
    "import scipy.sparse as sp\n",
    "import graphviz"
   ]
  },
  {
   "cell_type": "code",
   "execution_count": 33,
   "metadata": {
    "collapsed": true
   },
   "outputs": [],
   "source": [
    "os.environ[\"PATH\"] += os.pathsep + 'C:\\\\Users\\\\Vanda\\\\Downloads\\\\graphviz-2.38\\\\release\\\\bin'"
   ]
  },
  {
   "cell_type": "code",
   "execution_count": 10,
   "metadata": {},
   "outputs": [
    {
     "name": "stdout",
     "output_type": "stream",
     "text": [
      "../../data/sparse_matrices/word_base/embeddings/filtered/glove300d_l_0.3.emb_f_microsoft_concept_graph_w_10.json.npz ../../data/sparse_matrices/word_concept/glove300d_l_0.3.emb_f_microsoft_concept_graph_w_10.json\\microsoft_concept_graph_w_10.json_t40\\word_concept_mtx.npz\n"
     ]
    }
   ],
   "source": [
    "THD = \"40\"\n",
    "TEST_SIZE = 0.3\n",
    "EMBEDDING = \"../../data/sparse_matrices/word_base/embeddings/filtered/glove300d_l_0.3.emb_f_microsoft_concept_graph_w_10.json.npz\"\n",
    "EMBEDDING_NAME = embedding_name = \".\".join((os.path.basename(EMBEDDING).strip().split(\".\"))[0:-1])\n",
    "WORD_CONCEPT_NAME = (EMBEDDING_NAME.strip().split(\"_f_\"))[-1] + \"_t\" + THD\n",
    "WORD_CONCEPT = os.path.join(\"../../data/sparse_matrices/word_concept/\", EMBEDDING_NAME, WORD_CONCEPT_NAME, \"word_concept_mtx.npz\")\n",
    "\n",
    "print(EMBEDDING, WORD_CONCEPT)"
   ]
  },
  {
   "cell_type": "code",
   "execution_count": 11,
   "metadata": {
    "collapsed": true
   },
   "outputs": [],
   "source": [
    "def preprocess(embedding_path, word_concept_path, base=0):\n",
    "    E = sp.load_npz(embedding_path)\n",
    "    C = sp.load_npz(word_concept_path)\n",
    "    y = (E.getcol(base).toarray().T)[0, :]\n",
    "    y[y>0] = 1\n",
    "    y = y.reshape(y.shape[0], 1)\n",
    "    print(y)\n",
    "    print(\"y: \", y.shape)\n",
    "    print(\"X: \", C.shape)\n",
    "    return C,y"
   ]
  },
  {
   "cell_type": "code",
   "execution_count": 12,
   "metadata": {
    "collapsed": true
   },
   "outputs": [],
   "source": [
    "def delete_rows_csr(mat, indices):\n",
    "    \"\"\"\n",
    "    Remove the rows denoted by ``indices`` form the CSR sparse matrix ``mat``.\n",
    "    \"\"\"\n",
    "    if not isinstance(mat, sp.csr_matrix):\n",
    "        raise ValueError(\"works only for CSR format -- use .tocsr() first\")\n",
    "    indices = list(indices)\n",
    "    mask = np.ones(mat.shape[0], dtype=bool)\n",
    "    mask[indices] = False\n",
    "    return mat[mask]\n"
   ]
  },
  {
   "cell_type": "code",
   "execution_count": 13,
   "metadata": {
    "collapsed": true
   },
   "outputs": [],
   "source": [
    "def balance(X,y):\n",
    "    pos_len = list(y).count(1)\n",
    "    neg_len = list(y).count(0)\n",
    "    neg_ind = [ind for ind, val in enumerate(list(y)) if val == 0]\n",
    "    assert neg_len>pos_len\n",
    "    number_of_ind_to_drop = neg_len-pos_len\n",
    "    ind_to_drop = neg_ind[-number_of_ind_to_drop:]\n",
    "    # print(\"pos len: \", pos_len)\n",
    "    # print(\"to drop: \", len(ind_to_drop), \" to keep: \", neg_len-len(ind_to_drop))\n",
    "    X_balanced = delete_rows_csr(X, ind_to_drop)\n",
    "    # print(X_balanced.shape)\n",
    "    y_balanced = np.delete(y, ind_to_drop)\n",
    "    # print(y_balanced.shape)\n",
    "    return X_balanced, y_balanced\n"
   ]
  },
  {
   "cell_type": "code",
   "execution_count": 25,
   "metadata": {
    "collapsed": true
   },
   "outputs": [],
   "source": [
    "def classifier(X,y):\n",
    "    clf = tree.DecisionTreeClassifier()\n",
    "    clf = clf.fit(X, y)\n",
    "    return clf"
   ]
  },
  {
   "cell_type": "code",
   "execution_count": 17,
   "metadata": {
    "collapsed": true
   },
   "outputs": [],
   "source": [
    "def visualize(clf):\n",
    "    dot_data = tree.export_graphviz(clf, out_file=None)\n",
    "    graph = graphviz.Source(dot_data)\n",
    "    # out_path = \"../results/decision_tree/\" + EMBEDDING_NAME + \"_t\" + THD\n",
    "    # print(out_path)\n",
    "    # dir_path = os.path.dirname(out_path)\n",
    "    # if not os.path.exists(dir_path):\n",
    "    #     os.makedirs(dir_path)\n",
    "    graph.render(\"test\", view=True)"
   ]
  },
  {
   "cell_type": "code",
   "execution_count": 37,
   "metadata": {
    "collapsed": true
   },
   "outputs": [],
   "source": [
    "def classify(base=0):\n",
    "    X,y = preprocess(EMBEDDING, WORD_CONCEPT, base=base)\n",
    "    X,y = balance(X,y)\n",
    "    X_train, X_test, y_train, y_test = train_test_split(X, y, test_size=TEST_SIZE,\n",
    "                                                        shuffle=True, random_state=41)\n",
    "    clf = classifier(X_train, y_train)\n",
    "    y_pred = clf.predict(X_test)\n",
    "    eval_data = precision_recall_fscore_support(y_test, y_pred)\n",
    "    print(eval_data)\n",
    "    return clf"
   ]
  },
  {
   "cell_type": "code",
   "execution_count": 38,
   "metadata": {},
   "outputs": [
    {
     "name": "stdout",
     "output_type": "stream",
     "text": [
      "[[0.]\n",
      " [1.]\n",
      " [1.]\n",
      " ...\n",
      " [1.]\n",
      " [0.]\n",
      " [1.]]\n",
      "y:  (41105, 1)\n",
      "X:  (41105, 865)\n",
      "(array([0.70957309, 0.66249374]), array([0.61942405, 0.746614  ]), array([0.66144106, 0.70204298]), array([1771, 1772], dtype=int64))\n"
     ]
    },
    {
     "data": {
      "text/plain": [
       "sklearn.tree.tree.DecisionTreeClassifier"
      ]
     },
     "execution_count": 38,
     "metadata": {},
     "output_type": "execute_result"
    }
   ],
   "source": [
    "clf = classify(base=1)\n",
    "type(clf)"
   ]
  },
  {
   "cell_type": "code",
   "execution_count": 39,
   "metadata": {},
   "outputs": [
    {
     "data": {
      "text/plain": [
       "'test.pdf'"
      ]
     },
     "execution_count": 39,
     "metadata": {},
     "output_type": "execute_result"
    }
   ],
   "source": [
    "dot_data = tree.export_graphviz(clf, out_file=None)\n",
    "graph = graphviz.Source(dot_data)\n",
    "    # out_path = \"../results/decision_tree/\" + EMBEDDING_NAME + \"_t\" + THD\n",
    "    # print(out_path)\n",
    "    # dir_path = os.path.dirname(out_path)\n",
    "    # if not os.path.exists(dir_path):\n",
    "    #     os.makedirs(dir_path)\n",
    "graph.render(\"test\", view=True)"
   ]
  },
  {
   "cell_type": "code",
   "execution_count": null,
   "metadata": {
    "collapsed": true
   },
   "outputs": [],
   "source": []
  }
 ],
 "metadata": {
  "kernelspec": {
   "display_name": "Python 3",
   "language": "python",
   "name": "python3"
  },
  "language_info": {
   "codemirror_mode": {
    "name": "ipython",
    "version": 3
   },
   "file_extension": ".py",
   "mimetype": "text/x-python",
   "name": "python",
   "nbconvert_exporter": "python",
   "pygments_lexer": "ipython3",
   "version": "3.6.3"
  }
 },
 "nbformat": 4,
 "nbformat_minor": 2
}
